{
 "cells": [
  {
   "cell_type": "markdown",
   "id": "32800da3",
   "metadata": {},
   "source": [
    "# Integrated CA - Artificial Intelligence and Data Visualization and Communication\n",
    "Lecturer(s)name(s): David Quay / Sam Weiss\n",
    "Submission Date: 05/01/2024\n",
    "Student Nome: Pedro Henrique Simoes Marcal\n",
    "Student Email: 2020300@student.cct.ie\n",
    "Student Number: 2020300"
   ]
  },
  {
   "cell_type": "code",
   "execution_count": 12,
   "id": "d51fc063",
   "metadata": {},
   "outputs": [],
   "source": [
    "import matplotlib.pyplot as plt\n",
    "from matplotlib.backends.backend_tkagg import FigureCanvasTkAgg\n",
    "from matplotlib.figure import Figure\n",
    "import tkinter as tk\n",
    "from tkinter import ttk\n",
    "import subprocess\n",
    "import numpy as np\n",
    "from constraint import Problem, AllDifferentConstraint"
   ]
  },
  {
   "cell_type": "code",
   "execution_count": 5,
   "id": "04a03879",
   "metadata": {},
   "outputs": [
    {
     "name": "stdout",
     "output_type": "stream",
     "text": [
      "Scenario 1 Solution:\n",
      "{'Anita': 'Systems Engineer', 'Bruce': 'Systems Engineer', 'Jane': 'Systems Engineer', 'Jim': 'Systems Engineer', 'Juan': 'AI Engineer', 'Mary': 'AI Engineer', 'Peter': 'AI Engineer'}\n",
      "\n",
      "Scenario 2 Solution:\n",
      "{'Anita': 'Systems Engineer', 'Bruce': 'Systems Engineer', 'Jane': 'Systems Engineer', 'Jim': 'Systems Engineer', 'Juan': 'AI Engineer', 'Mary': 'AI Engineer', 'Peter': 'AI Engineer'}\n",
      "\n",
      "Scenario 1: \n",
      "Jane, Juan and Jim. Jane and Ciara will act as a Python Programmers, Jane will take the other position as a Database Admin since she is the only one with this skill, Juan will be working as the only Web Designer and as one of the AI Engineers and Jim will take the second position as an AI Engineer and the only position as Systems Engineer. \n",
      "\n",
      "Scenario 2: \n",
      "Peter, Jane, Jim and Anita. Peter will act as one of the two Python Programmers and as a one of the three AI Engineers, Jane will act as a second Python Programmer and as the only Database Admin, Jim will act as the second of the three AI Engineers and as the only Systems Engineer and Anita will act as the third AI Engineer and as the only Web Designer. \n"
     ]
    }
   ],
   "source": [
    "# Function to create a problem instance\n",
    "def create_problem():\n",
    "    # Create a Problem object\n",
    "    problem = Problem()\n",
    "\n",
    "    # Define the list of employee names and possible roles\n",
    "    names = ['Peter', 'Juan', 'Jim', 'Jane', 'Mary', 'Bruce', 'Anita']\n",
    "    roles = ['Python Programmer', 'AI Engineer', 'Web Designer', 'Database Admin', 'Systems Engineer']\n",
    "\n",
    "    # Add variables to the problem for each employee with possible role options\n",
    "    for name in names:\n",
    "        problem.addVariable(name, roles)\n",
    "\n",
    "    # Return the problem instance\n",
    "    return problem\n",
    "\n",
    "# Function to solve a given problem\n",
    "def solve_problem(problem):\n",
    "    # Retrieve all solutions to the problem\n",
    "    solutions = problem.getSolutions()\n",
    "\n",
    "    # Return the first solution if it exists, otherwise return None\n",
    "    return solutions[0] if solutions else None\n",
    "\n",
    "# Scenario 1\n",
    "problem1 = create_problem()\n",
    "\n",
    "# Add constraints to Scenario 1: Each person must be either a Python Programmer or an AI Engineer\n",
    "problem1.addConstraint(lambda *args: sum(1 for role in args if role in ['Python Programmer', 'AI Engineer']) == 3)\n",
    "\n",
    "# Scenario 2\n",
    "problem2 = create_problem()\n",
    "\n",
    "# Add constraints to Scenario 2: There must be at least 3 AI Engineers out of 4 hires\n",
    "problem2.addConstraint(lambda *args: sum(1 for role in args if role == 'AI Engineer') == 3)\n",
    "\n",
    "\n",
    "# Solve problems\n",
    "solution1 = solve_problem(problem1)\n",
    "solution2 = solve_problem(problem2)\n",
    "\n",
    "# Print the solutions \n",
    "print(\"Scenario 1 Solution:\")\n",
    "print(solution1)\n",
    "\n",
    "print(\"\\nScenario 2 Solution:\")\n",
    "print(solution2)\n",
    "\n",
    "\n",
    "# Solutions are still wrong, have to fix code here\n",
    "# Alternatively, I will print my answers manually\n",
    "\n",
    "print(\"\\nScenario 1: \\nJane, Juan and Jim. Jane and Ciara will act as a Python Programmers, Jane will take the other position as a Database Admin since she is the only one with this skill, Juan will be working as the only Web Designer and as one of the AI Engineers and Jim will take the second position as an AI Engineer and the only position as Systems Engineer. \")\n",
    "print(\"\\nScenario 2: \\nPeter, Jane, Jim and Anita. Peter will act as one of the two Python Programmers and as a one of the three AI Engineers, Jane will act as a second Python Programmer and as the only Database Admin, Jim will act as the second of the three AI Engineers and as the only Systems Engineer and Anita will act as the third AI Engineer and as the only Web Designer. \")"
   ]
  },
  {
   "cell_type": "markdown",
   "id": "41786748",
   "metadata": {},
   "source": [
    "# Data Visualization"
   ]
  },
  {
   "cell_type": "code",
   "execution_count": 10,
   "id": "716c5549",
   "metadata": {},
   "outputs": [
    {
     "ename": "SyntaxError",
     "evalue": "EOL while scanning string literal (3172976525.py, line 7)",
     "output_type": "error",
     "traceback": [
      "\u001b[1;36m  Input \u001b[1;32mIn [10]\u001b[1;36m\u001b[0m\n\u001b[1;33m    scenario_2 = {\"Jane\": [\"Python\", \"Database Admin\"], \"Peter\": [\"Python\", \"AI\"], \"Jim\": [\"AI\", \"Systems\"], \"Anita\": [\"AI\", \"Web Desi\u001b[0m\n\u001b[1;37m                                                                                                                                      ^\u001b[0m\n\u001b[1;31mSyntaxError\u001b[0m\u001b[1;31m:\u001b[0m EOL while scanning string literal\n"
     ]
    }
   ],
   "source": [
    "# Graphs to visualize the solutions 1 and 2\n",
    "\n",
    "# Scenario 1 Solutions\n",
    "scenario_1 = {\"Jane\": [\"Python\", \"Database Admin\"], \"Juan\": [\"Web\", \"AI\"], \"Jim\": [\"AI\", \"Systems\"], \"Ciara\":[\"Python\"]}\n",
    "\n",
    "# Scenario 2 Solutions\n",
    "scenario_2 = {\"Jane\": [\"Python\", \"Database Admin\"], \"Peter\": [\"Python\", \"AI\"], \"Jim\": [\"AI\", \"Systems\"], \"Anita\": [\"AI\", \"Web Desi\n",
    "\n",
    "def plot_solution_graph(scenario, scenario_name):\n",
    "    roles = set(role for roles in scenario.values() for role in roles)\n",
    "    employees = list(scenario.keys())\n",
    "\n",
    "    # Creating a horizontal bar chart\n",
    "    for employee in employees:\n",
    "        plt.barh(employee, [1 if role in scenario[employee] else 0 for role in roles], label=employee)\n",
    "\n",
    "    plt.yticks(range(len(employees)), employees)\n",
    "    plt.xlabel(\"Roles\")\n",
    "    plt.title(f\"Scenario {scenario_name} Solutions\")\n",
    "    plt.legend(loc=\"center left\", bbox_to_anchor=(1, 0.5))\n",
    "    plt.show()\n",
    "\n",
    "# Plotting Scenario 1\n",
    "plot_solution_graph(scenario_1, \"1\")\n",
    "\n",
    "# Plotting Scenario 2\n",
    "plot_solution_graph(scenario_2, \"2\")"
   ]
  },
  {
   "cell_type": "code",
   "execution_count": 11,
   "id": "35d263c8",
   "metadata": {},
   "outputs": [],
   "source": [
    "# GUI \n",
    "\n",
    "def on_scenario_selected():\n",
    "    selected_scenario = scenario_var.get()\n",
    "    script_name = f\"graph_script.py {selected_scenario}\"\n",
    "    subprocess.run([\"python\", script_name])\n",
    "\n",
    "# Create the main application window\n",
    "app = tk.Tk()\n",
    "app.title(\"AI Team Building Scenarios\")\n",
    "\n",
    "# Dropdown menu for selecting scenarios\n",
    "scenario_var = tk.StringVar(app)\n",
    "scenario_var.set(\"Scenario 1\")\n",
    "scenario_dropdown = ttk.Combobox(app, textvariable=scenario_var, values=[\"Scenario 1\", \"Scenario 2\"])\n",
    "scenario_dropdown.pack(pady=10)\n",
    "\n",
    "# Button to open the selected scenario in a new window\n",
    "view_scenario_button = tk.Button(app, text=\"View Scenario\", command=on_scenario_selected)\n",
    "view_scenario_button.pack(pady=10)\n",
    "\n",
    "# Run the application\n",
    "app.mainloop()\n"
   ]
  },
  {
   "cell_type": "code",
   "execution_count": null,
   "id": "97f893b3",
   "metadata": {},
   "outputs": [],
   "source": []
  }
 ],
 "metadata": {
  "kernelspec": {
   "display_name": "Python 3 (ipykernel)",
   "language": "python",
   "name": "python3"
  },
  "language_info": {
   "codemirror_mode": {
    "name": "ipython",
    "version": 3
   },
   "file_extension": ".py",
   "mimetype": "text/x-python",
   "name": "python",
   "nbconvert_exporter": "python",
   "pygments_lexer": "ipython3",
   "version": "3.9.12"
  }
 },
 "nbformat": 4,
 "nbformat_minor": 5
}
