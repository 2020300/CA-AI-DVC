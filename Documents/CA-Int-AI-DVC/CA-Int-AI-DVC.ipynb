{
 "cells": [
  {
   "cell_type": "markdown",
   "id": "32800da3",
   "metadata": {},
   "source": [
    "# Integrated CA - Artificial Intelligence and Data Visualization and Communication\n",
    "Lecturer(s)name(s): David Quay / Sam Weiss\n",
    "Submission Date: 05/01/2024\n",
    "Student Nome: Pedro Henrique Simoes Marcal\n",
    "Student Email: 2020300@student.cct.ie\n",
    "Student Number: 2020300"
   ]
  },
  {
   "cell_type": "code",
   "execution_count": 1,
   "id": "d51fc063",
   "metadata": {},
   "outputs": [],
   "source": [
    "import matplotlib.pyplot as plt\n",
    "from matplotlib.backends.backend_tkagg import FigureCanvasTkAgg\n",
    "from matplotlib.figure import Figure\n",
    "import tkinter as tk\n",
    "from tkinter import ttk\n",
    "import subprocess\n",
    "import numpy as np\n",
    "from constraint import Problem, AllDifferentConstraint"
   ]
  },
  {
   "cell_type": "code",
   "execution_count": 2,
   "id": "04a03879",
   "metadata": {},
   "outputs": [
    {
     "name": "stdout",
     "output_type": "stream",
     "text": [
      "Scenario 1 Solution:\n",
      "{'Anita': 'Systems Engineer', 'Bruce': 'Systems Engineer', 'Jane': 'Systems Engineer', 'Jim': 'Systems Engineer', 'Juan': 'AI Engineer', 'Mary': 'AI Engineer', 'Peter': 'AI Engineer'}\n",
      "\n",
      "Scenario 2 Solution:\n",
      "{'Anita': 'Systems Engineer', 'Bruce': 'Systems Engineer', 'Jane': 'Systems Engineer', 'Jim': 'Systems Engineer', 'Juan': 'AI Engineer', 'Mary': 'AI Engineer', 'Peter': 'AI Engineer'}\n",
      "\n",
      "Scenario 1: \n",
      "Jane, Juan and Jim. Jane and Ciara will act as a Python Programmers, Jane will take the other position as a Database Admin since she is the only one with this skill, Juan will be working as the only Web Designer and as one of the AI Engineers and Jim will take the second position as an AI Engineer and the only position as Systems Engineer. \n",
      "\n",
      "Scenario 2: \n",
      "Peter, Jane, Jim and Anita. Peter will act as one of the two Python Programmers and as a one of the three AI Engineers, Jane will act as a second Python Programmer and as the only Database Admin, Jim will act as the second of the three AI Engineers and as the only Systems Engineer and Anita will act as the third AI Engineer and as the only Web Designer. \n"
     ]
    }
   ],
   "source": [
    "# Function to create a problem instance\n",
    "def create_problem():\n",
    "    # Create a Problem object\n",
    "    problem = Problem()\n",
    "\n",
    "    # Define the list of employee names and possible roles\n",
    "    names = ['Peter', 'Juan', 'Jim', 'Jane', 'Mary', 'Bruce', 'Anita']\n",
    "    roles = ['Python Programmer', 'AI Engineer', 'Web Designer', 'Database Admin', 'Systems Engineer']\n",
    "\n",
    "    # Add variables to the problem for each employee with possible role options\n",
    "    for name in names:\n",
    "        problem.addVariable(name, roles)\n",
    "\n",
    "    # Return the problem instance\n",
    "    return problem\n",
    "\n",
    "# Function to solve a given problem\n",
    "def solve_problem(problem):\n",
    "    # Retrieve all solutions to the problem\n",
    "    solutions = problem.getSolutions()\n",
    "\n",
    "    # Return the first solution if it exists, otherwise return None\n",
    "    return solutions[0] if solutions else None\n",
    "\n",
    "# Scenario 1\n",
    "problem1 = create_problem()\n",
    "\n",
    "# Add constraints to Scenario 1: Each person must be either a Python Programmer or an AI Engineer\n",
    "problem1.addConstraint(lambda *args: sum(1 for role in args if role in ['Python Programmer', 'AI Engineer']) == 3)\n",
    "\n",
    "# Scenario 2\n",
    "problem2 = create_problem()\n",
    "\n",
    "# Add constraints to Scenario 2: There must be at least 3 AI Engineers out of 4 hires\n",
    "problem2.addConstraint(lambda *args: sum(1 for role in args if role == 'AI Engineer') == 3)\n",
    "\n",
    "\n",
    "# Solve problems\n",
    "solution1 = solve_problem(problem1)\n",
    "solution2 = solve_problem(problem2)\n",
    "\n",
    "# Print the solutions \n",
    "print(\"Scenario 1 Solution:\")\n",
    "print(solution1)\n",
    "\n",
    "print(\"\\nScenario 2 Solution:\")\n",
    "print(solution2)\n",
    "\n",
    "\n",
    "# Solutions are still wrong, have to fix code here\n",
    "# Alternatively, I will print my answers manually\n",
    "\n",
    "print(\"\\nScenario 1: \\nJane, Juan and Jim. Jane and Ciara will act as a Python Programmers, Jane will take the other position as a Database Admin since she is the only one with this skill, Juan will be working as the only Web Designer and as one of the AI Engineers and Jim will take the second position as an AI Engineer and the only position as Systems Engineer. \")\n",
    "print(\"\\nScenario 2: \\nPeter, Jane, Jim and Anita. Peter will act as one of the two Python Programmers and as a one of the three AI Engineers, Jane will act as a second Python Programmer and as the only Database Admin, Jim will act as the second of the three AI Engineers and as the only Systems Engineer and Anita will act as the third AI Engineer and as the only Web Designer. \")"
   ]
  },
  {
   "cell_type": "markdown",
   "id": "12651450",
   "metadata": {},
   "source": [
    "# Data Visualization"
   ]
  },
  {
   "cell_type": "code",
   "execution_count": 10,
   "id": "acf82005",
   "metadata": {},
   "outputs": [
    {
     "name": "stdout",
     "output_type": "stream",
     "text": [
      "Scenario 1 Solutions:\n",
      "Jane: Python Programmer, Database Admin\n",
      "Juan: Web Designer, AI Engineer\n",
      "Jim: AI Engineer, Systems Engineer\n"
     ]
    },
    {
     "data": {
      "image/png": "[encoded data removed]",
      "text/plain": [
       "<Figure size 432x288 with 1 Axes>"
      ]
     },
     "metadata": {
      "needs_background": "light"
     },
     "output_type": "display_data"
    },
    {
     "name": "stdout",
     "output_type": "stream",
     "text": [
      "\n",
      "Scenario 2 Solutions:\n",
      "Peter: Python Programmer, AI Engineer\n",
      "Jane: Python Programmer, Database Admin\n",
      "Jim: AI Engineer, Systems Engineer\n",
      "Anita: Web Designer, AI Engineer\n"
     ]
    },
    {
     "data": {
      "image/png": "[encoded data removed]",
      "text/plain": [
       "<Figure size 432x288 with 1 Axes>"
      ]
     },
     "metadata": {
      "needs_background": "light"
     },
     "output_type": "display_data"
    }
   ],
   "source": [
    "# Graphs to visualize the solutions 1 and 2\n",
    "\n",
    "# Scenario 1 Solutions\n",
    "scenario_1 = {\"Jane\": [\"Python\", \"Database Admin\"], \"Juan\": [\"Web\", \"AI\"], \"Jim\": [\"AI\", \"Systems\"], \"Ciara\":[\"Python\"]}\n",
    "\n",
    "# Scenario 2 Solutions\n",
    "scenario_2 = {\"Jane\": [\"Python\", \"Database Admin\"], \"Peter\": [\"Python\", \"AI\"], \"Jim\": [\"AI\", \"Systems\"], \"Anita\": [\"AI\", \"Web\"]}\n",
    "\n",
    "def plot_solution_graph(scenario, scenario_name):\n",
    "    roles = set(role for roles in scenario.values() for role in roles)\n",
    "    employees = list(scenario.keys())\n",
    "\n",
    "    # Creating a horizontal bar chart\n",
    "    for employee in employees:\n",
    "        plt.barh(employee, [1 if role in scenario[employee] else 0 for role in roles], label=employee)\n",
    "\n",
    "    plt.yticks(range(len(employees)), employees)\n",
    "    plt.xlabel(\"Roles\")\n",
    "    plt.title(f\"Scenario {scenario_name} Solutions\")\n",
    "    plt.legend(loc=\"center left\", bbox_to_anchor=(1, 0.5))\n",
    "    plt.show()\n",
    "\n",
    "\n",
    "# Display Scenario 1 Solutions\n",
    "print(\"Scenario 1 Solutions:\")\n",
    "print(\"Jane: Python Programmer, Database Admin\")\n",
    "print(\"Juan: Web Designer, AI Engineer\")\n",
    "print(\"Jim: AI Engineer, Systems Engineer\")\n",
    "plot_solution_graph(scenario_1, \"1\")\n",
    "\n",
    "\n",
    "# Display Scenario 2 Solutions\n",
    "print(\"\\nScenario 2 Solutions:\")\n",
    "print(\"Peter: Python Programmer, AI Engineer\")\n",
    "print(\"Jane: Python Programmer, Database Admin\")\n",
    "print(\"Jim: AI Engineer, Systems Engineer\")\n",
    "print(\"Anita: Web Designer, AI Engineer\")\n",
    "plot_solution_graph(scenario_2, \"2\")"
   ]
  },
  {
   "cell_type": "code",
   "execution_count": 26,
   "id": "58a85cf4",
   "metadata": {},
   "outputs": [],
   "source": []
  },
  {
   "cell_type": "code",
   "execution_count": null,
   "id": "5bd04598",
   "metadata": {},
   "outputs": [],
   "source": []
  },
  {
   "cell_type": "code",
   "execution_count": null,
   "id": "9a3aeaa5",
   "metadata": {},
   "outputs": [],
   "source": []
  }
 ],
 "metadata": {
  "kernelspec": {
   "display_name": "Python 3 (ipykernel)",
   "language": "python",
   "name": "python3"
  },
  "language_info": {
   "codemirror_mode": {
    "name": "ipython",
    "version": 3
   },
   "file_extension": ".py",
   "mimetype": "text/x-python",
   "name": "python",
   "nbconvert_exporter": "python",
   "pygments_lexer": "ipython3",
   "version": "3.9.12"
  }
 },
 "nbformat": 4,
 "nbformat_minor": 5
}
